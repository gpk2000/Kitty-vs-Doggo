{
  "nbformat": 4,
  "nbformat_minor": 0,
  "metadata": {
    "colab": {
      "name": "Final_Notebook.ipynb",
      "provenance": [],
      "collapsed_sections": [],
      "toc_visible": true,
      "authorship_tag": "ABX9TyPslwt9KBL6ZBbydz9G6N5c",
      "include_colab_link": true
    },
    "kernelspec": {
      "name": "python3",
      "display_name": "Python 3"
    }
  },
  "cells": [
    {
      "cell_type": "markdown",
      "metadata": {
        "id": "view-in-github",
        "colab_type": "text"
      },
      "source": [
        "<a href=\"https://colab.research.google.com/github/gpk2000/Kitty-vs-Doggo/blob/master/Final_Notebook.ipynb\" target=\"_parent\"><img src=\"https://colab.research.google.com/assets/colab-badge.svg\" alt=\"Open In Colab\"/></a>"
      ]
    },
    {
      "cell_type": "markdown",
      "metadata": {
        "id": "aGHUcp4NNGvw"
      },
      "source": [
        "- This is a deep learning project that accomplishes classification of dogs and cats.\n",
        "- To try/test the accuracy of the model(it is not 100% right now :P) follow along this notebook.\n",
        "> Please upload photos of dogs and cats only if you want to see meaningful results. This model was only trained to predict only cats and dogs.\n",
        "- Last but not least the model can be incorrect sometimes. It is dumb like me. So don't curse it. Hope you enjoy this and see good predictions."
      ]
    },
    {
      "cell_type": "markdown",
      "metadata": {
        "id": "4x1B0u1sOGn6"
      },
      "source": [
        "### Please upload your files here by running the code stub below"
      ]
    },
    {
      "cell_type": "code",
      "metadata": {
        "id": "tkI5v6MeOPAX"
      },
      "source": [
        "from google.colab import files\n",
        "files.upload()"
      ],
      "execution_count": null,
      "outputs": []
    },
    {
      "cell_type": "markdown",
      "metadata": {
        "id": "H_fezHcXOTh5"
      },
      "source": [
        "### Run this code below to get a prediction and preview of your uploaded image"
      ]
    },
    {
      "cell_type": "code",
      "metadata": {
        "id": "Wm7Tn4J0ObbZ"
      },
      "source": [
        "from urllib.request import urlretrieve\n",
        "\n",
        "url = 'https://raw.githubusercontent.com/gpk2000/Kitty-vs-Doggo/master/script.py'\n",
        "filename, headers = urlretrieve(url, filename='/content/script.py')\n",
        "\n",
        "%run script.py"
      ],
      "execution_count": null,
      "outputs": []
    },
    {
      "cell_type": "markdown",
      "metadata": {
        "id": "nVH1vr1VPu35"
      },
      "source": [
        "- Ignore `WARNINGS` if you see any.\n",
        "- If you want to repeat it again you need to start again from uploading the image.\n",
        "- Sorry to make you work a bit. I will definitely improve this in future\n",
        "\n",
        "#### Thanks for trying out my project. See you next time with another cool one."
      ]
    }
  ]
}